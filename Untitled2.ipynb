{
 "cells": [
  {
   "cell_type": "code",
   "execution_count": 41,
   "id": "21329412-b8ff-4822-a9af-447cd0565ffe",
   "metadata": {},
   "outputs": [],
   "source": [
    "import stribor as st\n",
    "import torch\n",
    "import esig\n",
    "import numpy as np\n",
    "import os\n",
    "from nfsde.experiments.synthetic.data import get_data_loaders\n",
    "from nfsde.models import CTFP, LatentCouplingFlow\n",
    "from nfsde.experiments.base_sde import sample_brownian"
   ]
  },
  {
   "cell_type": "code",
   "execution_count": 109,
   "id": "4d229244-9ca9-47b5-ae5f-a4a8b2e2a2ce",
   "metadata": {},
   "outputs": [
    {
     "data": {
      "text/plain": [
       "<All keys matched successfully>"
      ]
     },
     "execution_count": 109,
     "metadata": {},
     "output_type": "execute_result"
    }
   ],
   "source": [
    "DATA_DIR = 'nfsde/experiments/data/synth/'\n",
    "name = 'brownian' + '.npz'\n",
    "loader = dict(np.load(DATA_DIR + name, allow_pickle=True))\n",
    "ts = loader['time']\n",
    "init = loader['init']\n",
    "seq = loader['seq']\n",
    "\n",
    "f = CTFP(1,4,[64]*2)\n",
    "f.load_state_dict(torch.load(os.getcwd()+'/nfsde/result/model.pt'))"
   ]
  },
  {
   "cell_type": "code",
   "execution_count": 112,
   "id": "bd690288-ae66-42d5-aae1-9631dab3b313",
   "metadata": {},
   "outputs": [
    {
     "data": {
      "text/plain": [
       "True"
      ]
     },
     "execution_count": 112,
     "metadata": {},
     "output_type": "execute_result"
    }
   ],
   "source": [
    "num_levels = 3\n",
    "dataset = 'brownian'\n",
    "_, _, dl_train, dl_val, dl_test = get_data_loaders(dataset, 50)\n",
    "esig.is_library_loaded()"
   ]
  },
  {
   "cell_type": "code",
   "execution_count": 138,
   "id": "1b77fa09-64cf-402f-9b26-616a5b970841",
   "metadata": {},
   "outputs": [
    {
     "data": {
      "text/plain": [
       "2.0582325236005116e+26"
      ]
     },
     "execution_count": 138,
     "metadata": {},
     "output_type": "execute_result"
    }
   ],
   "source": [
    "mmd = []\n",
    "for batch in dl_test:\n",
    "    x, t, y_true = batch\n",
    "    ws = sample_brownian(t)\n",
    "    y = f(ws, t)\n",
    "    y_true /= 1000\n",
    "    y /=1000\n",
    "    t, y, y_true = t.detach().cpu().numpy(), y.detach().cpu().numpy(), y_true.detach().cpu()\n",
    "    streams = np.concatenate([t, y], axis=-1)\n",
    "    sig_model = np.asarray([esig.tosig.stream2sig(s, num_levels) for s in streams]).mean(axis=0)\n",
    "    streams2 = np.concatenate([t, y_true], axis=-1)\n",
    "    sig_true = np.asarray([esig.tosig.stream2sig(s, num_levels) for s in streams2]).mean(axis=0)\n",
    "    mmd.append(sig_model - sig_true)\n",
    "    \n",
    "mmd = np.mean(mmd, axis=0)\n",
    "np.sum(mmd**2)"
   ]
  },
  {
   "cell_type": "code",
   "execution_count": 146,
   "id": "867dabed-1b9d-4024-8a55-c19c626be57d",
   "metadata": {},
   "outputs": [
    {
     "data": {
      "text/plain": [
       "tensor([[[-0.0003],\n",
       "         [ 0.0021],\n",
       "         [ 0.0005],\n",
       "         ...,\n",
       "         [ 0.0053],\n",
       "         [ 0.0075],\n",
       "         [ 0.0072]],\n",
       "\n",
       "        [[-0.0003],\n",
       "         [-0.0021],\n",
       "         [-0.0032],\n",
       "         ...,\n",
       "         [-0.0240],\n",
       "         [-0.0232],\n",
       "         [-0.0231]],\n",
       "\n",
       "        [[-0.0003],\n",
       "         [-0.0046],\n",
       "         [-0.0020],\n",
       "         ...,\n",
       "         [-0.0301],\n",
       "         [-0.0296],\n",
       "         [-0.0285]],\n",
       "\n",
       "        ...,\n",
       "\n",
       "        [[-0.0003],\n",
       "         [ 0.0014],\n",
       "         [ 0.0025],\n",
       "         ...,\n",
       "         [-0.0170],\n",
       "         [-0.0173],\n",
       "         [-0.0166]],\n",
       "\n",
       "        [[-0.0003],\n",
       "         [ 0.0015],\n",
       "         [ 0.0005],\n",
       "         ...,\n",
       "         [ 0.0081],\n",
       "         [ 0.0100],\n",
       "         [ 0.0093]],\n",
       "\n",
       "        [[-0.0003],\n",
       "         [-0.0018],\n",
       "         [-0.0005],\n",
       "         ...,\n",
       "         [ 0.0082],\n",
       "         [ 0.0091],\n",
       "         [ 0.0105]]], grad_fn=<DivBackward0>)"
      ]
     },
     "execution_count": 146,
     "metadata": {},
     "output_type": "execute_result"
    }
   ],
   "source": [
    "y = 0\n",
    "for i in range(5):\n",
    "    t = torch.linspace(0, 10, 101).view(1,-1,1).repeat_interleave(100, dim=0)\n",
    "    ws = sample_brownian(t)\n",
    "    y += f(ws, t) / 100\n",
    "y / 5"
   ]
  },
  {
   "cell_type": "code",
   "execution_count": 47,
   "id": "7a29eb01-2926-488b-ad79-3a44afe2dec0",
   "metadata": {},
   "outputs": [
    {
     "data": {
      "text/plain": [
       "<All keys matched successfully>"
      ]
     },
     "execution_count": 47,
     "metadata": {},
     "output_type": "execute_result"
    }
   ],
   "source": [
    "g = LatentCouplingFlow(1,1,4,[64]*2, 'TimeFourierBounded', 8)\n",
    "g.load_state_dict(torch.load(os.getcwd()+'/nfsde/result/model.pt'))"
   ]
  },
  {
   "cell_type": "code",
   "execution_count": 107,
   "id": "b048299f-bd20-45f3-8343-8cab89ddfa8e",
   "metadata": {},
   "outputs": [
    {
     "data": {
      "text/plain": [
       "9.843329160731395e+46"
      ]
     },
     "execution_count": 107,
     "metadata": {},
     "output_type": "execute_result"
    }
   ],
   "source": [
    "mmd = []\n",
    "esig.is_library_loaded()\n",
    "for batch in dl_test:\n",
    "    x, t, y_true = batch\n",
    "    ws = sample_brownian(t)\n",
    "    y = g(x, ws, t)\n",
    "    t, y, y_true = t.detach().cpu().numpy(), y.detach().cpu().numpy(), y_true.detach().cpu()\n",
    "    streams = np.concatenate([t, y], axis=-1)\n",
    "    sig_model = np.asarray([esig.tosig.stream2sig(s, num_levels) for s in streams]).mean(axis=0)\n",
    "    streams2 = np.concatenate([t, y_true], axis=-1)\n",
    "    sig_true = np.asarray([esig.tosig.stream2sig(s, num_levels) for s in streams2]).mean(axis=0)\n",
    "    mmd.append(sig_model - sig_true)\n",
    "mmd = np.mean(mmd, axis=0)\n",
    "np.sum(mmd**2)\n",
    "# mmd"
   ]
  },
  {
   "cell_type": "code",
   "execution_count": 152,
   "id": "4cb21171-fa53-44f5-9d43-b1a7740f0ff7",
   "metadata": {},
   "outputs": [
    {
     "name": "stdout",
     "output_type": "stream",
     "text": [
      "tensor([[[ 0.0000],\n",
      "         [ 0.1344],\n",
      "         [ 0.4758],\n",
      "         ...,\n",
      "         [-0.4300],\n",
      "         [-0.6819],\n",
      "         [-0.2360]],\n",
      "\n",
      "        [[ 0.0000],\n",
      "         [ 3.2161],\n",
      "         [ 1.4512],\n",
      "         ...,\n",
      "         [ 2.4921],\n",
      "         [ 3.1058],\n",
      "         [ 2.7891]],\n",
      "\n",
      "        [[ 0.0000],\n",
      "         [ 0.0119],\n",
      "         [ 0.8310],\n",
      "         ...,\n",
      "         [ 3.6492],\n",
      "         [ 2.1081],\n",
      "         [ 1.1985]],\n",
      "\n",
      "        ...,\n",
      "\n",
      "        [[ 0.0000],\n",
      "         [ 1.5002],\n",
      "         [ 3.1224],\n",
      "         ...,\n",
      "         [ 1.1565],\n",
      "         [ 3.4226],\n",
      "         [ 3.8300]],\n",
      "\n",
      "        [[ 0.0000],\n",
      "         [ 1.2166],\n",
      "         [ 0.2478],\n",
      "         ...,\n",
      "         [-1.4129],\n",
      "         [-1.4455],\n",
      "         [-1.3873]],\n",
      "\n",
      "        [[ 0.0000],\n",
      "         [ 3.6598],\n",
      "         [ 5.1615],\n",
      "         ...,\n",
      "         [-1.3782],\n",
      "         [-1.3145],\n",
      "         [-1.2748]]], grad_fn=<AddBackward0>)\n"
     ]
    },
    {
     "data": {
      "text/plain": [
       "tensor([[ 0.0000],\n",
       "        [ 0.0939],\n",
       "        [ 0.1430],\n",
       "        [ 0.1256],\n",
       "        [ 0.1484],\n",
       "        [ 0.2102],\n",
       "        [ 0.2146],\n",
       "        [ 0.2255],\n",
       "        [ 0.2378],\n",
       "        [ 0.1850],\n",
       "        [ 0.1503],\n",
       "        [ 0.0913],\n",
       "        [ 0.1548],\n",
       "        [ 0.1520],\n",
       "        [ 0.0928],\n",
       "        [ 0.1453],\n",
       "        [ 0.1290],\n",
       "        [ 0.1549],\n",
       "        [ 0.0796],\n",
       "        [ 0.1489],\n",
       "        [ 0.1587],\n",
       "        [ 0.2286],\n",
       "        [ 0.2283],\n",
       "        [ 0.2526],\n",
       "        [ 0.2047],\n",
       "        [ 0.2039],\n",
       "        [ 0.1529],\n",
       "        [ 0.2054],\n",
       "        [ 0.1826],\n",
       "        [ 0.1607],\n",
       "        [ 0.1799],\n",
       "        [ 0.1734],\n",
       "        [ 0.1125],\n",
       "        [ 0.1376],\n",
       "        [ 0.0960],\n",
       "        [ 0.0886],\n",
       "        [ 0.0758],\n",
       "        [ 0.0626],\n",
       "        [ 0.0659],\n",
       "        [ 0.0346],\n",
       "        [ 0.0305],\n",
       "        [ 0.0321],\n",
       "        [ 0.0394],\n",
       "        [ 0.0214],\n",
       "        [ 0.0007],\n",
       "        [ 0.0638],\n",
       "        [ 0.0650],\n",
       "        [ 0.1073],\n",
       "        [ 0.0529],\n",
       "        [ 0.0758],\n",
       "        [ 0.0583],\n",
       "        [ 0.0268],\n",
       "        [ 0.0151],\n",
       "        [ 0.0037],\n",
       "        [-0.0044],\n",
       "        [-0.0152],\n",
       "        [ 0.0104],\n",
       "        [-0.0741],\n",
       "        [-0.0250],\n",
       "        [-0.0064],\n",
       "        [ 0.0198],\n",
       "        [ 0.0233],\n",
       "        [-0.0141],\n",
       "        [-0.0050],\n",
       "        [ 0.0027],\n",
       "        [-0.0150],\n",
       "        [-0.0134],\n",
       "        [-0.0350],\n",
       "        [-0.0738],\n",
       "        [-0.1096],\n",
       "        [-0.0494],\n",
       "        [-0.0850],\n",
       "        [-0.0645],\n",
       "        [-0.0444],\n",
       "        [-0.0514],\n",
       "        [-0.0334],\n",
       "        [-0.0589],\n",
       "        [-0.0682],\n",
       "        [-0.0364],\n",
       "        [-0.0599],\n",
       "        [-0.0524],\n",
       "        [-0.0436],\n",
       "        [-0.0586],\n",
       "        [-0.1003],\n",
       "        [-0.1078],\n",
       "        [-0.1414],\n",
       "        [-0.0960],\n",
       "        [-0.0908],\n",
       "        [-0.0939],\n",
       "        [-0.0802],\n",
       "        [-0.0845],\n",
       "        [-0.0633],\n",
       "        [-0.0657],\n",
       "        [-0.0886],\n",
       "        [-0.1019],\n",
       "        [-0.0626],\n",
       "        [-0.1297],\n",
       "        [-0.1296],\n",
       "        [-0.1371],\n",
       "        [-0.1447],\n",
       "        [-0.1161]], grad_fn=<DivBackward0>)"
      ]
     },
     "execution_count": 152,
     "metadata": {},
     "output_type": "execute_result"
    }
   ],
   "source": [
    "y = 0\n",
    "x = torch.zeros(100, 1, 1)\n",
    "for i in range(1):\n",
    "    t = torch.linspace(0, 10, 101).view(1,-1,1).repeat_interleave(100, dim=0)\n",
    "    ws = sample_brownian(t)\n",
    "    y += g(x, ws, t).mean(0)\n",
    "    print(g(x, ws, t))\n",
    "    break\n",
    "y / 5"
   ]
  },
  {
   "cell_type": "code",
   "execution_count": null,
   "id": "5f52b297-1de0-4da9-8e9f-7451c4ddaa82",
   "metadata": {},
   "outputs": [],
   "source": []
  }
 ],
 "metadata": {
  "kernelspec": {
   "display_name": "Python 3 (ipykernel)",
   "language": "python",
   "name": "python3"
  },
  "language_info": {
   "codemirror_mode": {
    "name": "ipython",
    "version": 3
   },
   "file_extension": ".py",
   "mimetype": "text/x-python",
   "name": "python",
   "nbconvert_exporter": "python",
   "pygments_lexer": "ipython3",
   "version": "3.9.0"
  }
 },
 "nbformat": 4,
 "nbformat_minor": 5
}
