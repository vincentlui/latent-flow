{
 "cells": [
  {
   "cell_type": "code",
   "execution_count": 1,
   "id": "21329412-b8ff-4822-a9af-447cd0565ffe",
   "metadata": {},
   "outputs": [
    {
     "name": "stderr",
     "output_type": "stream",
     "text": [
      "/nfs/homedirs/lui/miniconda3/envs/neuralf2/lib/python3.9/site-packages/tqdm/auto.py:22: TqdmWarning: IProgress not found. Please update jupyter and ipywidgets. See https://ipywidgets.readthedocs.io/en/stable/user_install.html\n",
      "  from .autonotebook import tqdm as notebook_tqdm\n"
     ]
    }
   ],
   "source": [
    "import stribor as st\n",
    "import torch\n",
    "import iisignature \n",
    "import numpy as np\n",
    "import os\n",
    "from nfsde.experiments.synthetic.data import get_data_loaders\n",
    "from nfsde.experiments.real.data import get_real_data_loaders\n",
    "from nfsde.modules.flow_mc import FlowMC\n",
    "from nfsde.modules.ctfp import CTFPModule\n",
    "from nfsde.modules.flow_mc_z import FlowMCZ\n",
    "from nfsde.modules.lsde import LSDE\n",
    "from nfsde.modules.flow_gan import FlowGAN\n",
    "from nfsde.modules.sde_gan import SDEGAN\n",
    "%load_ext autoreload\n",
    "%autoreload 2"
   ]
  },
  {
   "attachments": {},
   "cell_type": "markdown",
   "id": "d279a095",
   "metadata": {},
   "source": [
    "This notebook computes the maximum mean discrepancy (MMD) between the model samples and real data."
   ]
  },
  {
   "cell_type": "code",
   "execution_count": 47,
   "id": "d125acc8",
   "metadata": {},
   "outputs": [],
   "source": [
    "data = get_data_loaders('gompertzian', batch_size=1000)\n",
    "# data = get_real_data_loaders('energy', batch_size=1000)\n",
    "num_levels = 5\n",
    "_, _, dl_train, dl_val, dl_test, mean, std , *_ = data"
   ]
  },
  {
   "cell_type": "code",
   "execution_count": 48,
   "id": "ad891b1a",
   "metadata": {},
   "outputs": [],
   "source": [
    "flow_module_path = [\n",
    "    'result/flow-mc/hopper/lightning_logs/version_7233365/checkpoints/checkpoint-epoch=0167.ckpt',\n",
    "    'result/flow-mc/hopper/lightning_logs/version_7233656/checkpoints/checkpoint-epoch=0193.ckpt',\n",
    "    'result/flow-mc/hopper/lightning_logs/version_7233648/checkpoints/checkpoint-epoch=0236.ckpt',\n",
    "]\n",
    "# flow_module_path = [\n",
    "#     'result/flow-mc/hopper/lightning_logs/version_7193123/checkpoints/checkpoint-epoch=0175.ckpt',\n",
    "#     'result/flow-mc/hopper/lightning_logs/version_7193133/checkpoints/checkpoint-epoch=0230.ckpt',\n",
    "#     'result/flow-mc/hopper/lightning_logs/version_7193018/checkpoints/checkpoint-epoch=0171.ckpt',\n",
    "# ]\n",
    "flow_module_path = [\n",
    "    'result/flow-mc/gompertzian/lightning_logs/version_7323765/checkpoints/checkpoint-epoch=0079.ckpt',\n",
    "    'result/flow-mc/gompertzian/lightning_logs/version_7323769/checkpoints/checkpoint-epoch=0090.ckpt',\n",
    "    'result/flow-mc/gompertzian/lightning_logs/version_7323764/checkpoints/checkpoint-epoch=0084.ckpt'\n",
    "]\n",
    "# data = get_data_loaders('logistic', batch_size=1000)\n",
    "num_levels = 5\n",
    "_, _, dl_train, dl_val, dl_test, mean, std , *_ = data"
   ]
  },
  {
   "cell_type": "code",
   "execution_count": 49,
   "id": "4813bd2a",
   "metadata": {
    "scrolled": true
   },
   "outputs": [],
   "source": [
    "flow_modules = []\n",
    "for path in flow_module_path:\n",
    "    module = FlowMC.load_from_checkpoint(path, data=data)\n",
    "    module.eval()\n",
    "    flow_modules.append(module)\n",
    "    "
   ]
  },
  {
   "cell_type": "code",
   "execution_count": 50,
   "id": "db9e4003",
   "metadata": {},
   "outputs": [
    {
     "name": "stdout",
     "output_type": "stream",
     "text": [
      "[]\n",
      "[1.074114454567293]\n",
      "[1.074114454567293, 0.8273335366835118]\n"
     ]
    },
    {
     "data": {
      "text/plain": [
       "(1.1035853442552768, 0.23850224467528233)"
      ]
     },
     "execution_count": 50,
     "metadata": {},
     "output_type": "execute_result"
    }
   ],
   "source": [
    "mmd=[]\n",
    "s2 = None\n",
    "num_data = 0.\n",
    "for batch in dl_test:\n",
    "    x, t, y_true = batch\n",
    "    t_detach, y_true_detach = t.detach().cpu().numpy(), y_true.detach().cpu()\n",
    "    y_true_detach = y_true_detach\n",
    "\n",
    "    #data signature\n",
    "    num_data += x.shape[0]\n",
    "    streams2 = np.concatenate([t_detach, y_true_detach], axis=-1)\n",
    "\n",
    "    sig_true = np.asarray([iisignature.sig(s, num_levels) for s in streams2]).sum(axis=0)\n",
    "    if s2 is None:\n",
    "        s2 = sig_true\n",
    "    else:\n",
    "        s2 += sig_true\n",
    "\n",
    "for module in flow_modules:\n",
    "    print(mmd)\n",
    "    s1 = None\n",
    "#     s2 = None\n",
    "    num_sample = 0.\n",
    "#     num_data = 0.\n",
    "    for batch in dl_test:\n",
    "#         x, t, y_true = batch\n",
    "#         t_detach, y_true_detach = t.detach().cpu().numpy(), y_true.detach().cpu()\n",
    "#         y_true_detach = y_true_detach#[..., 5:6]\n",
    "\n",
    "#         #data signature\n",
    "#         num_data += x.shape[0]\n",
    "#         streams2 = np.concatenate([t_detach, y_true_detach], axis=-1)\n",
    "\n",
    "#         sig_true = np.asarray([iisignature.sig(s, num_levels) for s in streams2]).sum(axis=0)\n",
    "#         if s2 is None:\n",
    "#             s2 = sig_true\n",
    "#         else:\n",
    "#             s2 += sig_true\n",
    "\n",
    "        #sample signature\n",
    "        for i in range(20):\n",
    "            num_sample += x.shape[0]\n",
    "            y = module(t) #* std + mean\n",
    "            y = y.detach().cpu().numpy()\n",
    "            y= y\n",
    "            streams = np.concatenate([t_detach, y], axis=-1)\n",
    "            sig_model = np.asarray([iisignature.sig(s, num_levels) for s in streams]).sum(axis=0)\n",
    "            if s1 is None:\n",
    "                s1 = sig_model\n",
    "            else:\n",
    "                s1 += sig_model\n",
    "        \n",
    "\n",
    "    mmd.append(np.sum((s1 / num_sample - s2 / num_data) ** 2))\n",
    "    \n",
    "mmd = np.array(mmd)        \n",
    "mmd.mean(), mmd.std()"
   ]
  },
  {
   "cell_type": "code",
   "execution_count": 18,
   "id": "14c94bf7",
   "metadata": {},
   "outputs": [
    {
     "data": {
      "text/plain": [
       "array([1.12989927, 1.91444714, 0.99114125])"
      ]
     },
     "execution_count": 18,
     "metadata": {},
     "output_type": "execute_result"
    }
   ],
   "source": [
    "mmd"
   ]
  },
  {
   "cell_type": "code",
   "execution_count": 72,
   "id": "8b83e75a",
   "metadata": {},
   "outputs": [],
   "source": [
    "lsde_module_path = [\n",
    "    'result/latent-sde/energy/lightning_logs/version_7256099/checkpoints/checkpoint-epoch=0030.ckpt',\n",
    "    'result/latent-sde/energy/lightning_logs/version_7256268/checkpoints/checkpoint-epoch=0065.ckpt',\n",
    "    'result/latent-sde/energy/lightning_logs/version_7255971/checkpoints/checkpoint-epoch=0064.ckpt'\n",
    "]\n",
    "lsde_modules = []\n",
    "for path in lsde_module_path:\n",
    "    module = LSDE.load_from_checkpoint(path, data=data)\n",
    "    module.eval()\n",
    "    lsde_modules.append(module)"
   ]
  },
  {
   "cell_type": "code",
   "execution_count": 73,
   "id": "1c1fa432-3e6f-4af0-9378-7608fc1b2f95",
   "metadata": {
    "jupyter": {
     "outputs_hidden": true
    },
    "tags": []
   },
   "outputs": [
    {
     "name": "stdout",
     "output_type": "stream",
     "text": [
      "[]\n",
      "0\n",
      "1\n",
      "2\n",
      "3\n",
      "4\n",
      "5\n",
      "6\n",
      "7\n",
      "8\n",
      "9\n",
      "[595.1262884290823]\n",
      "0\n",
      "1\n",
      "2\n",
      "3\n",
      "4\n",
      "5\n",
      "6\n",
      "7\n",
      "8\n",
      "9\n",
      "[595.1262884290823, 595.1068560693665]\n",
      "0\n",
      "1\n",
      "2\n",
      "3\n",
      "4\n",
      "5\n",
      "6\n",
      "7\n",
      "8\n",
      "9\n"
     ]
    },
    {
     "data": {
      "text/plain": [
       "(595.115757648352, 0.00801643623125829)"
      ]
     },
     "execution_count": 73,
     "metadata": {},
     "output_type": "execute_result"
    }
   ],
   "source": [
    "mmd=[]\n",
    "s2 = None\n",
    "num_data = 0.\n",
    "for batch in dl_test:\n",
    "        x, t, y_true = batch\n",
    "        t_detach, y_true_detach = t.detach().cpu().numpy(), y_true.detach().cpu()\n",
    "\n",
    "        #data signature\n",
    "        num_data += x.shape[0]\n",
    "        streams2 = np.concatenate([t_detach, y_true_detach], axis=-1)\n",
    "\n",
    "        sig_true = np.asarray([iisignature.sig(s, num_levels) for s in streams2]).sum(axis=0)\n",
    "        if s2 is None:\n",
    "            s2 = sig_true\n",
    "        else:\n",
    "            s2 += sig_true\n",
    "            \n",
    "for module in lsde_modules:\n",
    "    print(mmd)\n",
    "    s1 = None\n",
    "    num_sample = 0.\n",
    "    for batch in dl_test:\n",
    "        x, t, y_true = batch\n",
    "        t_detach, y_true_detach = t.detach().cpu().numpy(), y_true.detach().cpu()\n",
    "\n",
    "        #sample signature\n",
    "        for i in range(10):\n",
    "            print(i)\n",
    "            num_sample += x.shape[0]\n",
    "            y = module(t[0].flatten(), x.shape[0]) #* std + mean\n",
    "            y = y.detach().cpu().numpy()\n",
    "            streams = np.concatenate([t_detach, y], axis=-1)\n",
    "            sig_model = np.asarray([iisignature.sig(s, num_levels) for s in streams]).sum(axis=0)\n",
    "            if s1 is None:\n",
    "                s1 = sig_model\n",
    "            else:\n",
    "                s1 += sig_model\n",
    "        \n",
    "\n",
    "    mmd.append(np.sum((s1 / num_sample - s2 / num_data) ** 2))\n",
    "    \n",
    "mmd = np.array(mmd)        \n",
    "mmd.mean(), mmd.std()"
   ]
  },
  {
   "cell_type": "code",
   "execution_count": 10,
   "id": "1da4f7e2",
   "metadata": {},
   "outputs": [
    {
     "data": {
      "text/plain": [
       "array([0.00852555, 0.00632829, 0.00568358])"
      ]
     },
     "execution_count": 10,
     "metadata": {},
     "output_type": "execute_result"
    }
   ],
   "source": [
    "mmd"
   ]
  },
  {
   "cell_type": "code",
   "execution_count": 74,
   "id": "b3d0e55e-5467-44a4-bf3d-f4cd12b3d2bb",
   "metadata": {},
   "outputs": [],
   "source": [
    "ctfp_module_path = [\n",
    "    'result/ctfp/energy/lightning_logs/version_7257469/checkpoints/checkpoint-epoch=0053.ckpt',\n",
    "    'result/ctfp/energy/lightning_logs/version_7257470/checkpoints/checkpoint-epoch=0019.ckpt',\n",
    "    'result/ctfp/energy/lightning_logs/version_7257468/checkpoints/checkpoint-epoch=0064.ckpt'\n",
    "]\n",
    "ctfp_modules = []\n",
    "# data = get_data_loaders('lorenz', batch_size=500)\n",
    "# data = get_real_data_loaders('baqd', batch_size=500)\n",
    "num_levels = 5\n",
    "_, _, dl_train, dl_val, dl_test, mean, std , *_ = data\n",
    "for path in ctfp_module_path:\n",
    "    module = CTFPModule.load_from_checkpoint(path, data=data)\n",
    "    module.eval()\n",
    "    ctfp_modules.append(module)"
   ]
  },
  {
   "cell_type": "code",
   "execution_count": 75,
   "id": "1b77fa09-64cf-402f-9b26-616a5b970841",
   "metadata": {},
   "outputs": [
    {
     "name": "stdout",
     "output_type": "stream",
     "text": [
      "[]\n",
      "[1301597306899721.8]\n",
      "[1301597306899721.8, 371114790222.6173]\n"
     ]
    },
    {
     "data": {
      "text/plain": [
       "(9.95753667105133e+16, 1.3990121194667525e+17)"
      ]
     },
     "execution_count": 75,
     "metadata": {},
     "output_type": "execute_result"
    }
   ],
   "source": [
    "mmd=[]\n",
    "s2 = None\n",
    "num_data = 0.\n",
    "for batch in dl_test:\n",
    "    x, t, y_true = batch\n",
    "    t = t[:, 1:]\n",
    "    y_true=y_true[:,1:]\n",
    "    t_detach, y_true_detach = t.detach().cpu().numpy(), y_true.detach().cpu()\n",
    "\n",
    "    #data signature\n",
    "    num_data += x.shape[0]\n",
    "    streams2 = np.concatenate([t_detach, y_true_detach], axis=-1)\n",
    "\n",
    "    sig_true = np.asarray([iisignature.sig(s, num_levels) for s in streams2]).sum(axis=0)\n",
    "    if s2 is None:\n",
    "        s2 = sig_true\n",
    "    else:\n",
    "        s2 += sig_true\n",
    "        \n",
    "for module in ctfp_modules:\n",
    "    print(mmd)\n",
    "    s1 = None\n",
    "#     s2 = None\n",
    "    num_sample = 0.\n",
    "#     num_data = 0.\n",
    "    for batch in dl_test:\n",
    "        x, t, y_true = batch\n",
    "        t = t[:, 1:]\n",
    "        y_true=y_true[:,1:]\n",
    "        t_detach, y_true_detach = t.detach().cpu().numpy(), y_true.detach().cpu()\n",
    "\n",
    "        #data signature\n",
    "#         num_data += x.shape[0]\n",
    "#         streams2 = np.concatenate([t_detach, y_true_detach], axis=-1)\n",
    "\n",
    "#         sig_true = np.asarray([iisignature.sig(s, num_levels) for s in streams2]).sum(axis=0)\n",
    "#         if s2 is None:\n",
    "#             s2 = sig_true\n",
    "#         else:\n",
    "#             s2 += sig_true\n",
    "\n",
    "        #sample signature\n",
    "        for i in range(15):\n",
    "            num_sample += x.shape[0]\n",
    "            y = module(t) #* std + mean\n",
    "            y = y.detach().cpu().numpy()\n",
    "#             print(y)\n",
    "            streams = np.concatenate([t_detach, y], axis=-1)\n",
    "            sig_model = np.asarray([iisignature.sig(s, num_levels) for s in streams]).sum(axis=0)\n",
    "            if s1 is None:\n",
    "                s1 = sig_model\n",
    "            else:\n",
    "                s1 += sig_model\n",
    "#         break\n",
    "#     break\n",
    "\n",
    "    mmd.append(np.sum((s1 / num_sample - s2 / num_data) ** 2))\n",
    "    \n",
    "mmd = np.array(mmd)        \n",
    "mmd.mean(), mmd.std()"
   ]
  },
  {
   "cell_type": "code",
   "execution_count": 23,
   "id": "f5deeda1",
   "metadata": {},
   "outputs": [
    {
     "data": {
      "text/plain": [
       "array([7.22741793e+24, 1.90808147e+23, 1.32235537e+20])"
      ]
     },
     "execution_count": 23,
     "metadata": {},
     "output_type": "execute_result"
    }
   ],
   "source": [
    "mmd"
   ]
  },
  {
   "cell_type": "code",
   "execution_count": 45,
   "id": "495946cf",
   "metadata": {},
   "outputs": [
    {
     "data": {
      "text/plain": [
       "(15.403930587871558, 20.51994794521418)"
      ]
     },
     "execution_count": 45,
     "metadata": {},
     "output_type": "execute_result"
    }
   ],
   "source": [
    "flow_module_path = [\n",
    "    'result/flow-gan/ou2/lightning_logs/version_7277047/checkpoints/checkpoint-epoch=1999.ckpt',\n",
    "    'result/flow-gan/ou2/lightning_logs/version_7277048/checkpoints/checkpoint-epoch=1999.ckpt',\n",
    "    'result/flow-gan/ou2/lightning_logs/version_7277046/checkpoints/checkpoint-epoch=1999.ckpt'\n",
    "]\n",
    "data = get_data_loaders('ou2', batch_size=1000)\n",
    "num_levels = 5\n",
    "_, _, dl_train, dl_val, dl_test, mean, std , *_ = data\n",
    "flow_modules = []\n",
    "for path in flow_module_path:\n",
    "    module = FlowGAN.load_from_checkpoint(path, data=data)\n",
    "#     module.eval()\n",
    "    flow_modules.append(module)\n",
    "\n",
    "mmd=[]\n",
    "\n",
    "for module in flow_modules:\n",
    "    s1 = None\n",
    "    s2 = None\n",
    "    num_sample = 0.\n",
    "    num_data = 0.\n",
    "    for batch in dl_test:\n",
    "        x, t, y_true = batch\n",
    "        t_detach, y_true_detach = t.detach().cpu().numpy(), y_true.detach().cpu()\n",
    "        t_detach = t_detach/63\n",
    "\n",
    "        #data signature\n",
    "        num_data += x.shape[0]\n",
    "        streams2 = np.concatenate([t_detach, y_true_detach], axis=-1)\n",
    "\n",
    "        sig_true = np.asarray([iisignature.sig(s, num_levels) for s in streams2]).sum(axis=0)\n",
    "        if s2 is None:\n",
    "            s2 = sig_true\n",
    "        else:\n",
    "            s2 += sig_true\n",
    "\n",
    "        #sample signature\n",
    "        for i in range(20):\n",
    "            num_sample += x.shape[0]\n",
    "            y = module(t, averaged=True) #* std + mean\n",
    "            y = y.detach().cpu().numpy()\n",
    "            streams = np.concatenate([t_detach, y], axis=-1)\n",
    "            sig_model = np.asarray([iisignature.sig(s, num_levels) for s in streams]).sum(axis=0)\n",
    "            if s1 is None:\n",
    "                s1 = sig_model\n",
    "            else:\n",
    "                s1 += sig_model\n",
    "        \n",
    "\n",
    "    mmd.append(np.sum((s1 / num_sample - s2 / num_data) ** 2))\n",
    "    \n",
    "mmd = np.array(mmd)        \n",
    "mmd.mean(), mmd.std()"
   ]
  },
  {
   "cell_type": "code",
   "execution_count": 46,
   "id": "4f4eef7a",
   "metadata": {},
   "outputs": [
    {
     "data": {
      "text/plain": [
       "array([44.42108836,  1.22063855,  0.57006485])"
      ]
     },
     "execution_count": 46,
     "metadata": {},
     "output_type": "execute_result"
    }
   ],
   "source": [
    "mmd"
   ]
  },
  {
   "cell_type": "code",
   "execution_count": 41,
   "id": "b8557392",
   "metadata": {},
   "outputs": [
    {
     "data": {
      "text/plain": [
       "(tensor(0.4966, grad_fn=<DivBackward0>),\n",
       " tensor(-0.4027, grad_fn=<DivBackward0>),\n",
       " tensor(18.4644, grad_fn=<MeanBackward0>))"
      ]
     },
     "execution_count": 41,
     "metadata": {},
     "output_type": "execute_result"
    }
   ],
   "source": [
    "flow = flow_modules[0]\n",
    "sde = sde_modules[0]\n",
    "y_flow = flow(t, averaged=True)\n",
    "y_sde = sde(t, averaged=True)\n",
    "critic1 = flow.discriminator(torch.cat([t, y_flow], dim=-1))\n",
    "critic2 = flow.discriminator(torch.cat([t, y_sde], dim=-1))\n",
    "critic3 = flow.discriminator(torch.cat([t, y_true], dim=-1))\n",
    "critic1/critic3, critic2/critic3, critic3"
   ]
  },
  {
   "cell_type": "code",
   "execution_count": 40,
   "id": "a806209f",
   "metadata": {},
   "outputs": [
    {
     "data": {
      "text/plain": [
       "(tensor(0.8561, grad_fn=<DivBackward0>),\n",
       " tensor(0.9346, grad_fn=<DivBackward0>),\n",
       " tensor(70.7873, grad_fn=<MeanBackward0>))"
      ]
     },
     "execution_count": 40,
     "metadata": {},
     "output_type": "execute_result"
    }
   ],
   "source": [
    "critic1 = sde.discriminator(torch.cat([t, y_flow], dim=-1))\n",
    "critic2 = sde.discriminator(torch.cat([t, y_sde], dim=-1))\n",
    "critic3 = sde.discriminator(torch.cat([t, y_true], dim=-1))\n",
    "critic1/critic3, critic2/critic3, critic3"
   ]
  },
  {
   "cell_type": "code",
   "execution_count": 69,
   "id": "59fcea8f",
   "metadata": {
    "scrolled": true
   },
   "outputs": [
    {
     "data": {
      "image/png": "[encoded data removed]",
      "text/plain": [
       "<Figure size 432x288 with 1 Axes>"
      ]
     },
     "metadata": {
      "needs_background": "light"
     },
     "output_type": "display_data"
    }
   ],
   "source": [
    "# i=0\n",
    "# losses = []\n",
    "# with torch.no_grad():\n",
    "#     for batch in dl_test:\n",
    "#         i += 1\n",
    "#         x, t, y_true = batch\n",
    "#         break\n",
    "\n",
    "# module = ctfp_modules[0]\n",
    "# y = module(t) * module.std + module.mean\n",
    "import matplotlib.pyplot as plt\n",
    "# a = plt.subplot(projection='3d')\n",
    "# y = lsde_modules[0](t[0].flatten(), 10) * std + mean\n",
    "y = flow_modules[0](t) * std + mean\n",
    "q = y.detach().cpu().numpy()\n",
    "for i in range(10):\n",
    "#     plt.plot(t[i], y_true[i] * std + mean)\n",
    "    plt.plot(t[i], q[i])\n",
    "#     plt.plot(q[i,:,0],q[i,:,1],q[i,:,2])"
   ]
  },
  {
   "cell_type": "code",
   "execution_count": 64,
   "id": "460c21c2",
   "metadata": {},
   "outputs": [
    {
     "data": {
      "text/plain": [
       "tensor([[0.0278],\n",
       "        [0.0278],\n",
       "        [0.0278],\n",
       "        [0.0278],\n",
       "        [0.0278],\n",
       "        [0.0278],\n",
       "        [0.0278],\n",
       "        [0.0278],\n",
       "        [0.0278],\n",
       "        [0.0278],\n",
       "        [0.0278],\n",
       "        [0.0278],\n",
       "        [0.0278],\n",
       "        [0.0278],\n",
       "        [0.0278],\n",
       "        [0.0278],\n",
       "        [0.0278],\n",
       "        [0.0278],\n",
       "        [0.0278],\n",
       "        [0.0278],\n",
       "        [0.0278],\n",
       "        [0.0278],\n",
       "        [0.0278],\n",
       "        [0.0278],\n",
       "        [0.0278],\n",
       "        [0.0278],\n",
       "        [0.0278],\n",
       "        [0.0278],\n",
       "        [0.0278],\n",
       "        [0.0278],\n",
       "        [0.0278],\n",
       "        [0.0278],\n",
       "        [0.0278],\n",
       "        [0.0278],\n",
       "        [0.0278],\n",
       "        [0.0278],\n",
       "        [0.0278],\n",
       "        [0.0278],\n",
       "        [0.0278],\n",
       "        [0.0278],\n",
       "        [0.0278],\n",
       "        [0.0278],\n",
       "        [0.0278],\n",
       "        [0.0278],\n",
       "        [0.0278],\n",
       "        [0.0278],\n",
       "        [0.0278],\n",
       "        [0.0278],\n",
       "        [0.0278],\n",
       "        [0.0278],\n",
       "        [0.0278],\n",
       "        [0.0278],\n",
       "        [0.0278],\n",
       "        [0.0278],\n",
       "        [0.0278],\n",
       "        [0.0278],\n",
       "        [0.0278],\n",
       "        [0.0278],\n",
       "        [0.0278],\n",
       "        [0.0278],\n",
       "        [0.0278],\n",
       "        [0.0278],\n",
       "        [0.0278],\n",
       "        [0.0278],\n",
       "        [0.0278],\n",
       "        [0.0278],\n",
       "        [0.0278],\n",
       "        [0.0278],\n",
       "        [0.0278],\n",
       "        [0.0278],\n",
       "        [0.0278],\n",
       "        [0.0278],\n",
       "        [0.0278],\n",
       "        [0.0278],\n",
       "        [0.0278],\n",
       "        [0.0278],\n",
       "        [0.0278],\n",
       "        [0.0278],\n",
       "        [0.0278],\n",
       "        [0.0278],\n",
       "        [0.0278],\n",
       "        [0.0278],\n",
       "        [0.0278],\n",
       "        [0.0278],\n",
       "        [0.0278],\n",
       "        [0.0278],\n",
       "        [0.0278],\n",
       "        [0.0278],\n",
       "        [0.0278],\n",
       "        [0.0278],\n",
       "        [0.0278],\n",
       "        [0.0278],\n",
       "        [0.0278],\n",
       "        [0.0278],\n",
       "        [0.0278],\n",
       "        [0.0278],\n",
       "        [0.0278],\n",
       "        [0.0278],\n",
       "        [0.0278],\n",
       "        [0.0278],\n",
       "        [0.0278],\n",
       "        [0.0278],\n",
       "        [0.0278],\n",
       "        [0.0278],\n",
       "        [0.0278],\n",
       "        [0.0278],\n",
       "        [0.0278],\n",
       "        [0.0278],\n",
       "        [0.0278],\n",
       "        [0.0278]])"
      ]
     },
     "execution_count": 64,
     "metadata": {},
     "output_type": "execute_result"
    }
   ],
   "source": [
    "t[:,1]\n"
   ]
  },
  {
   "cell_type": "code",
   "execution_count": 59,
   "id": "b010482b",
   "metadata": {},
   "outputs": [
    {
     "data": {
      "text/plain": [
       "tensor([[[-0.3551, -0.4773,  0.8197],\n",
       "         [-0.4582, -0.4773,  0.8197],\n",
       "         [-0.4582, -0.4773,  0.8197],\n",
       "         ...,\n",
       "         [-0.3551,  2.1103,  0.7958],\n",
       "         [ 0.2636,  3.4041,  0.8197],\n",
       "         [-0.4582,  2.1103,  0.8360]],\n",
       "\n",
       "        [[-0.3551, -0.4773, -0.7650],\n",
       "         [-0.5613, -0.4773, -0.8084],\n",
       "         [-0.4582, -0.4773, -0.8084],\n",
       "         ...,\n",
       "         [ 0.0573,  0.8165, -1.0689],\n",
       "         [ 0.2636,  0.8165, -1.0038],\n",
       "         [ 0.2636,  0.8165, -1.0038]],\n",
       "\n",
       "        [[-0.3551,  3.4041, -0.2288],\n",
       "         [-0.3551,  2.1103, -0.2288],\n",
       "         [-0.3551,  3.4041, -0.2288],\n",
       "         ...,\n",
       "         [-0.5613,  0.8165, -0.9452],\n",
       "         [-0.6644, -0.4773, -0.9452],\n",
       "         [-0.7676,  0.8165, -1.0038]],\n",
       "\n",
       "        ...,\n",
       "\n",
       "        [[-0.1489, -0.4773, -1.4836],\n",
       "         [ 0.1605, -0.4773, -1.4380],\n",
       "         [ 5.8317, -0.4773, -1.3946],\n",
       "         ...,\n",
       "         [ 3.2539, -0.4773, -0.0269],\n",
       "         [ 2.5321, -0.4773, -0.0704],\n",
       "         [ 1.9134, -0.4773, -0.0921]],\n",
       "\n",
       "        [[-0.0458, -0.4773, -0.5545],\n",
       "         [ 0.6760, -0.4773, -0.4828],\n",
       "         [ 4.8006, -0.4773, -0.4828],\n",
       "         ...,\n",
       "         [-0.4582, -0.4773,  0.2336],\n",
       "         [-0.5613, -0.4773,  0.2336],\n",
       "         [-0.3551, -0.4773,  0.2336]],\n",
       "\n",
       "        [[ 0.0573, -0.4773, -0.8084],\n",
       "         [-0.3551,  0.8165, -0.8084],\n",
       "         [-0.1489, -0.4773, -0.8084],\n",
       "         ...,\n",
       "         [-0.6644, -0.4773, -0.0921],\n",
       "         [-0.5613, -0.4773, -0.1572],\n",
       "         [-0.6644, -0.4773, -0.1572]]])"
      ]
     },
     "execution_count": 59,
     "metadata": {},
     "output_type": "execute_result"
    }
   ],
   "source": [
    "y_true"
   ]
  },
  {
   "cell_type": "code",
   "execution_count": 43,
   "id": "f27e31b0",
   "metadata": {},
   "outputs": [
    {
     "data": {
      "text/plain": [
       "(40.558207917865865, 57.336222713991305)"
      ]
     },
     "execution_count": 43,
     "metadata": {},
     "output_type": "execute_result"
    }
   ],
   "source": [
    "sde_module_path = [\n",
    "    'result/sde-gan/ou2/lightning_logs/version_7295861/checkpoints/checkpoint-epoch=1999.ckpt',\n",
    "    'result/sde-gan/ou2/lightning_logs/version_7295862/checkpoints/checkpoint-epoch=1999.ckpt',\n",
    "    'result/sde-gan/ou2/lightning_logs/version_7295860/checkpoints/checkpoint-epoch=1999.ckpt'   \n",
    "]\n",
    "data = get_data_loaders('ou2', batch_size=1000)\n",
    "num_levels = 5\n",
    "_, _, dl_train, dl_val, dl_test, mean, std , *_ = data\n",
    "sde_modules = []\n",
    "for path in sde_module_path:\n",
    "    module = SDEGAN.load_from_checkpoint(path, data=data)\n",
    "#     module.eval()\n",
    "    sde_modules.append(module)\n",
    "\n",
    "mmd=[]\n",
    "\n",
    "for module in sde_modules:\n",
    "    s1 = None\n",
    "    s2 = None\n",
    "    num_sample = 0.\n",
    "    num_data = 0.\n",
    "    for batch in dl_test:\n",
    "        x, t, y_true = batch\n",
    "        t_detach, y_true_detach = t.detach().cpu().numpy(), y_true.detach().cpu()\n",
    "        t_detach=t_detach/63\n",
    "\n",
    "        #data signature\n",
    "        num_data += x.shape[0]\n",
    "        streams2 = np.concatenate([t_detach, y_true_detach], axis=-1)\n",
    "\n",
    "        sig_true = np.asarray([iisignature.sig(s, num_levels) for s in streams2]).sum(axis=0)\n",
    "        if s2 is None:\n",
    "            s2 = sig_true\n",
    "        else:\n",
    "            s2 += sig_true\n",
    "\n",
    "        #sample signature\n",
    "        for i in range(20):\n",
    "            num_sample += x.shape[0]\n",
    "            y = module(t, averaged=True) #* std + mean\n",
    "            y = y.detach().cpu().numpy()\n",
    "            streams = np.concatenate([t_detach, y], axis=-1)\n",
    "            sig_model = np.asarray([iisignature.sig(s, num_levels) for s in streams]).sum(axis=0)\n",
    "            if s1 is None:\n",
    "                s1 = sig_model\n",
    "            else:\n",
    "                s1 += sig_model\n",
    "        \n",
    "\n",
    "    mmd.append(np.sum((s1 / num_sample - s2 / num_data) ** 2))\n",
    "    \n",
    "mmd = np.array(mmd)        \n",
    "mmd.mean(), mmd.std()"
   ]
  },
  {
   "cell_type": "code",
   "execution_count": 44,
   "id": "4b5feb1a",
   "metadata": {},
   "outputs": [
    {
     "data": {
      "text/plain": [
       "array([1.21643871e+02, 2.26095444e-02, 8.14294416e-03])"
      ]
     },
     "execution_count": 44,
     "metadata": {},
     "output_type": "execute_result"
    }
   ],
   "source": [
    "mmd"
   ]
  },
  {
   "cell_type": "code",
   "execution_count": 23,
   "id": "8dd77668",
   "metadata": {
    "scrolled": true
   },
   "outputs": [
    {
     "name": "stdout",
     "output_type": "stream",
     "text": [
      "1\n",
      "2\n",
      "3\n",
      "4\n",
      "5\n",
      "6\n",
      "7\n",
      "8\n",
      "9\n",
      "10\n",
      "11\n",
      "12\n",
      "13\n",
      "14\n",
      "15\n",
      "16\n",
      "17\n",
      "18\n",
      "19\n",
      "20\n",
      "21\n",
      "22\n",
      "23\n",
      "24\n",
      "25\n",
      "26\n",
      "27\n",
      "28\n",
      "29\n",
      "30\n",
      "31\n",
      "32\n",
      "33\n",
      "34\n",
      "35\n",
      "36\n"
     ]
    },
    {
     "data": {
      "text/plain": [
       "4.446781"
      ]
     },
     "execution_count": 23,
     "metadata": {},
     "output_type": "execute_result"
    }
   ],
   "source": [
    "i=0\n",
    "losses = []\n",
    "with torch.no_grad():\n",
    "    for batch in dl_test:\n",
    "        i += 1\n",
    "        x, t, y_true = batch\n",
    "        losses.append(lsde_modules[0].test_step(batch, i))\n",
    "        print(i)\n",
    "np.array(losses).mean()        "
   ]
  },
  {
   "cell_type": "code",
   "execution_count": 47,
   "id": "7a29eb01-2926-488b-ad79-3a44afe2dec0",
   "metadata": {},
   "outputs": [
    {
     "data": {
      "text/plain": [
       "<All keys matched successfully>"
      ]
     },
     "execution_count": 47,
     "metadata": {},
     "output_type": "execute_result"
    }
   ],
   "source": [
    "g = LatentCouplingFlow(1,1,4,[64]*2, 'TimeFourierBounded', 8)\n",
    "g.load_state_dict(torch.load(os.getcwd()+'/nfsde/result/model.pt'))"
   ]
  },
  {
   "cell_type": "code",
   "execution_count": 107,
   "id": "b048299f-bd20-45f3-8343-8cab89ddfa8e",
   "metadata": {},
   "outputs": [
    {
     "data": {
      "text/plain": [
       "9.843329160731395e+46"
      ]
     },
     "execution_count": 107,
     "metadata": {},
     "output_type": "execute_result"
    }
   ],
   "source": [
    "mmd = []\n",
    "esig.is_library_loaded()\n",
    "for batch in dl_test:\n",
    "    x, t, y_true = batch\n",
    "    ws = sample_brownian(t)\n",
    "    y = g(x, ws, t)\n",
    "    t, y, y_true = t.detach().cpu().numpy(), y.detach().cpu().numpy(), y_true.detach().cpu()\n",
    "    streams = np.concatenate([t, y], axis=-1)\n",
    "    sig_model = np.asarray([esig.tosig.stream2sig(s, num_levels) for s in streams]).mean(axis=0)\n",
    "    streams2 = np.concatenate([t, y_true], axis=-1)\n",
    "    sig_true = np.asarray([esig.tosig.stream2sig(s, num_levels) for s in streams2]).mean(axis=0)\n",
    "    mmd.append(sig_model - sig_true)\n",
    "mmd = np.mean(mmd, axis=0)\n",
    "np.sum(mmd**2)\n",
    "# mmd"
   ]
  },
  {
   "cell_type": "code",
   "execution_count": 152,
   "id": "4cb21171-fa53-44f5-9d43-b1a7740f0ff7",
   "metadata": {},
   "outputs": [
    {
     "name": "stdout",
     "output_type": "stream",
     "text": [
      "tensor([[[ 0.0000],\n",
      "         [ 0.1344],\n",
      "         [ 0.4758],\n",
      "         ...,\n",
      "         [-0.4300],\n",
      "         [-0.6819],\n",
      "         [-0.2360]],\n",
      "\n",
      "        [[ 0.0000],\n",
      "         [ 3.2161],\n",
      "         [ 1.4512],\n",
      "         ...,\n",
      "         [ 2.4921],\n",
      "         [ 3.1058],\n",
      "         [ 2.7891]],\n",
      "\n",
      "        [[ 0.0000],\n",
      "         [ 0.0119],\n",
      "         [ 0.8310],\n",
      "         ...,\n",
      "         [ 3.6492],\n",
      "         [ 2.1081],\n",
      "         [ 1.1985]],\n",
      "\n",
      "        ...,\n",
      "\n",
      "        [[ 0.0000],\n",
      "         [ 1.5002],\n",
      "         [ 3.1224],\n",
      "         ...,\n",
      "         [ 1.1565],\n",
      "         [ 3.4226],\n",
      "         [ 3.8300]],\n",
      "\n",
      "        [[ 0.0000],\n",
      "         [ 1.2166],\n",
      "         [ 0.2478],\n",
      "         ...,\n",
      "         [-1.4129],\n",
      "         [-1.4455],\n",
      "         [-1.3873]],\n",
      "\n",
      "        [[ 0.0000],\n",
      "         [ 3.6598],\n",
      "         [ 5.1615],\n",
      "         ...,\n",
      "         [-1.3782],\n",
      "         [-1.3145],\n",
      "         [-1.2748]]], grad_fn=<AddBackward0>)\n"
     ]
    },
    {
     "data": {
      "text/plain": [
       "tensor([[ 0.0000],\n",
       "        [ 0.0939],\n",
       "        [ 0.1430],\n",
       "        [ 0.1256],\n",
       "        [ 0.1484],\n",
       "        [ 0.2102],\n",
       "        [ 0.2146],\n",
       "        [ 0.2255],\n",
       "        [ 0.2378],\n",
       "        [ 0.1850],\n",
       "        [ 0.1503],\n",
       "        [ 0.0913],\n",
       "        [ 0.1548],\n",
       "        [ 0.1520],\n",
       "        [ 0.0928],\n",
       "        [ 0.1453],\n",
       "        [ 0.1290],\n",
       "        [ 0.1549],\n",
       "        [ 0.0796],\n",
       "        [ 0.1489],\n",
       "        [ 0.1587],\n",
       "        [ 0.2286],\n",
       "        [ 0.2283],\n",
       "        [ 0.2526],\n",
       "        [ 0.2047],\n",
       "        [ 0.2039],\n",
       "        [ 0.1529],\n",
       "        [ 0.2054],\n",
       "        [ 0.1826],\n",
       "        [ 0.1607],\n",
       "        [ 0.1799],\n",
       "        [ 0.1734],\n",
       "        [ 0.1125],\n",
       "        [ 0.1376],\n",
       "        [ 0.0960],\n",
       "        [ 0.0886],\n",
       "        [ 0.0758],\n",
       "        [ 0.0626],\n",
       "        [ 0.0659],\n",
       "        [ 0.0346],\n",
       "        [ 0.0305],\n",
       "        [ 0.0321],\n",
       "        [ 0.0394],\n",
       "        [ 0.0214],\n",
       "        [ 0.0007],\n",
       "        [ 0.0638],\n",
       "        [ 0.0650],\n",
       "        [ 0.1073],\n",
       "        [ 0.0529],\n",
       "        [ 0.0758],\n",
       "        [ 0.0583],\n",
       "        [ 0.0268],\n",
       "        [ 0.0151],\n",
       "        [ 0.0037],\n",
       "        [-0.0044],\n",
       "        [-0.0152],\n",
       "        [ 0.0104],\n",
       "        [-0.0741],\n",
       "        [-0.0250],\n",
       "        [-0.0064],\n",
       "        [ 0.0198],\n",
       "        [ 0.0233],\n",
       "        [-0.0141],\n",
       "        [-0.0050],\n",
       "        [ 0.0027],\n",
       "        [-0.0150],\n",
       "        [-0.0134],\n",
       "        [-0.0350],\n",
       "        [-0.0738],\n",
       "        [-0.1096],\n",
       "        [-0.0494],\n",
       "        [-0.0850],\n",
       "        [-0.0645],\n",
       "        [-0.0444],\n",
       "        [-0.0514],\n",
       "        [-0.0334],\n",
       "        [-0.0589],\n",
       "        [-0.0682],\n",
       "        [-0.0364],\n",
       "        [-0.0599],\n",
       "        [-0.0524],\n",
       "        [-0.0436],\n",
       "        [-0.0586],\n",
       "        [-0.1003],\n",
       "        [-0.1078],\n",
       "        [-0.1414],\n",
       "        [-0.0960],\n",
       "        [-0.0908],\n",
       "        [-0.0939],\n",
       "        [-0.0802],\n",
       "        [-0.0845],\n",
       "        [-0.0633],\n",
       "        [-0.0657],\n",
       "        [-0.0886],\n",
       "        [-0.1019],\n",
       "        [-0.0626],\n",
       "        [-0.1297],\n",
       "        [-0.1296],\n",
       "        [-0.1371],\n",
       "        [-0.1447],\n",
       "        [-0.1161]], grad_fn=<DivBackward0>)"
      ]
     },
     "execution_count": 152,
     "metadata": {},
     "output_type": "execute_result"
    }
   ],
   "source": [
    "y = 0\n",
    "x = torch.zeros(100, 1, 1)\n",
    "for i in range(1):\n",
    "    t = torch.linspace(0, 10, 101).view(1,-1,1).repeat_interleave(100, dim=0)\n",
    "    ws = sample_brownian(t)\n",
    "    y += g(x, ws, t).mean(0)\n",
    "    print(g(x, ws, t))\n",
    "    break\n",
    "y / 5"
   ]
  },
  {
   "cell_type": "code",
   "execution_count": 16,
   "id": "5f52b297-1de0-4da9-8e9f-7451c4ddaa82",
   "metadata": {},
   "outputs": [
    {
     "data": {
      "image/png": "[encoded data removed]",
      "text/plain": [
       "<IPython.core.display.Image object>"
      ]
     },
     "execution_count": 16,
     "metadata": {},
     "output_type": "execute_result"
    }
   ],
   "source": [
    "from IPython.display import Image\n",
    "Image(filename='result/latent-sde/lorenz/lightning_logs/version_7164518/plot.png') "
   ]
  }
 ],
 "metadata": {
  "kernelspec": {
   "display_name": "nfsde",
   "language": "python",
   "name": "python3"
  },
  "language_info": {
   "codemirror_mode": {
    "name": "ipython",
    "version": 3
   },
   "file_extension": ".py",
   "mimetype": "text/x-python",
   "name": "python",
   "nbconvert_exporter": "python",
   "pygments_lexer": "ipython3",
   "version": "3.9.15 (main, Nov 24 2022, 14:31:59) \n[GCC 11.2.0]"
  },
  "vscode": {
   "interpreter": {
    "hash": "d165080bfa1c500e1053a76dc0e1d82399de1483a7a29329fe587a28788db14d"
   }
  }
 },
 "nbformat": 4,
 "nbformat_minor": 5
}
